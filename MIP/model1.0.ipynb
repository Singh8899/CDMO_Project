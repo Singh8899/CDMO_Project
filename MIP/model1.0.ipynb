{
 "cells": [
  {
   "cell_type": "code",
   "execution_count": 1,
   "metadata": {},
   "outputs": [],
   "source": [
    "from pulp import *\n",
    "import numpy as np\n",
    "from runner import *"
   ]
  },
  {
   "cell_type": "code",
   "execution_count": 2,
   "metadata": {},
   "outputs": [],
   "source": [
    "n_couriers, n_items, courier_capacity,item_size, D = inputFile(7)\n",
    "n_cities=D.shape[0]-1\n",
    "origin=n_cities+1"
   ]
  },
  {
   "cell_type": "code",
   "execution_count": 3,
   "metadata": {},
   "outputs": [],
   "source": [
    "m_TSP = LpProblem(\"Minimize_m_TSP\",LpMinimize)\n",
    "\n",
    "#We define a 3d matrix of variables x[i][j][c] means that courier c has used node (i,j) to leave city i and reach city j\n",
    "x = LpVariable.dicts(\"x\", (range(1,origin+1), range(1,origin+1), range(1,n_couriers+1)), cat=\"Binary\")\n",
    "u = LpVariable.dicts(\"u\", (range(1,n_cities+1), range(1,n_couriers+1)), lowBound=0, upBound=origin-1, cat=\"Integer\")\n",
    "n_obj = n_items // n_couriers + 1\n",
    "min_dist = max([(D[n_cities,i] + D[i,n_cities]) for i in range(0,n_cities)])\n",
    "max_dist = sum([D[i,i+1] for i in range(0,n_obj+1)]) + D[origin-1,1] + D[n_obj-1,origin-1]\n",
    "maximum = LpVariable(\"max_dist\",lowBound=min_dist, upBound=max_dist, cat=\"Integer\")\n",
    "\n",
    "#Ensure that we dont use useless arcs \n",
    "m_TSP += lpSum(x[i][i][c] for i in range(1,origin+1) for c in range(1,n_couriers+1)) == 0\n",
    "\n",
    "# Ensure that every city is reached by one and only one courier\n",
    "for j in range(1,n_cities+1) :\n",
    "    m_TSP += lpSum(x[i][j][c] for i in range(1,origin+1) for c in range(1,n_couriers+1)) == 1\n",
    "\n",
    "# Ensure that every courier leaves the depot \n",
    "for c in range(1,n_couriers+1) :\n",
    "    m_TSP += lpSum(x[origin][j][c] for j in range(1,origin)) == 1\n",
    "\n",
    "# Ensure that every courier reach again the depot\n",
    "    for c in range(1,n_couriers+1) :\n",
    "        m_TSP += lpSum(x[i][origin][c] for i in range(1,origin)) == 1\n",
    "\n",
    "# Ensure that each courier doesnt exceed its max capacity\n",
    "for c in range(1,n_couriers+1) :\n",
    "    m_TSP += lpSum(x[i][j][c]*item_size[j-1] for i in range(1,origin+1) for j in range(1,n_cities+1)) <= courier_capacity[c-1]\n",
    "    \n",
    "# Ensure that each courier path it's connected\n",
    "for j in range(1,origin+1):\n",
    "    for c in range(1,n_couriers+1):\n",
    "        m_TSP += lpSum(x[i][j][c] for i in range(1,origin+1) ) ==   lpSum(x[j][i][c] for i in range(1,origin+1) )\n",
    "\n",
    "for c in range(1,n_couriers+1):\n",
    "    for i in range(1,n_cities+1):\n",
    "        for j in range(1,n_cities+1):\n",
    "            m_TSP += (x[i][j][c]   + x[j][i][c])  <=1\n",
    "\n",
    "for j in range(1,origin):\n",
    "   m_TSP += lpSum(x[i][j][c] for i in range(1,origin+1) for c in range(1,n_couriers+1)) ==1\n",
    "\n",
    "for k in range(1,n_couriers+1):\n",
    "    for i in range(1, n_cities+1):\n",
    "        for j in range(1, n_cities+1):\n",
    "            if i != j:\n",
    "                m_TSP += u[i][k] - u[j][k] + n_cities * x[i][j][k] <= n_cities - 1\n",
    "\n",
    "for c in range(1,n_couriers+1):\n",
    "    m_TSP += lpSum( x[i][j][c] * D[i-1][j-1] for i in range(1,origin+1) for j in range(1,origin+1)) <= maximum\n",
    "m_TSP +=  maximum\n",
    "\n"
   ]
  },
  {
   "cell_type": "code",
   "execution_count": 4,
   "metadata": {},
   "outputs": [
    {
     "name": "stdout",
     "output_type": "stream",
     "text": [
      "min_dist= 167\n",
      "max_dist= 344\n"
     ]
    }
   ],
   "source": [
    "print(\"min_dist=\",min_dist)\n",
    "print(\"max_dist=\",max_dist)"
   ]
  },
  {
   "cell_type": "code",
   "execution_count": 5,
   "metadata": {},
   "outputs": [
    {
     "name": "stdout",
     "output_type": "stream",
     "text": [
      "Optimal\n",
      "Objective value = 167.0\n"
     ]
    }
   ],
   "source": [
    "status = m_TSP.solve()\n",
    "print(LpStatus[status])\n",
    "print(\"Objective value =\",value(m_TSP.objective))"
   ]
  },
  {
   "cell_type": "code",
   "execution_count": 6,
   "metadata": {},
   "outputs": [],
   "source": [
    "nodes = [(i, j, c) for i in range(1,origin+1) for j in range(1,origin+1) for c in range(1,n_couriers+1) if pulp.value(x[i][j][c]) == 1]"
   ]
  }
 ],
 "metadata": {
  "kernelspec": {
   "display_name": "Python 3",
   "language": "python",
   "name": "python3"
  },
  "language_info": {
   "codemirror_mode": {
    "name": "ipython",
    "version": 3
   },
   "file_extension": ".py",
   "mimetype": "text/x-python",
   "name": "python",
   "nbconvert_exporter": "python",
   "pygments_lexer": "ipython3",
   "version": "3.12.0"
  }
 },
 "nbformat": 4,
 "nbformat_minor": 2
}
