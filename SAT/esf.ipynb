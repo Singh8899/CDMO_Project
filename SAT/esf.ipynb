{
 "cells": [
  {
   "cell_type": "code",
   "execution_count": 5,
   "metadata": {},
   "outputs": [],
   "source": [
    "def binary_sum(bin_numbers):\n",
    "    sum = bin_numbers[0]\n",
    "    for i in bin_numbers[1:]:\n",
    "        sum += i\n",
    "    return sum"
   ]
  },
  {
   "cell_type": "code",
   "execution_count": 15,
   "metadata": {},
   "outputs": [
    {
     "ename": "TypeError",
     "evalue": "'BitVecRef' object is not subscriptable",
     "output_type": "error",
     "traceback": [
      "\u001b[1;31m---------------------------------------------------------------------------\u001b[0m",
      "\u001b[1;31mTypeError\u001b[0m                                 Traceback (most recent call last)",
      "Cell \u001b[1;32mIn[15], line 17\u001b[0m\n\u001b[0;32m     15\u001b[0m s\u001b[38;5;241m.\u001b[39madd(bitvec_vars[\u001b[38;5;241m3\u001b[39m] \u001b[38;5;241m==\u001b[39m \u001b[38;5;241m4\u001b[39m)\n\u001b[0;32m     16\u001b[0m s\u001b[38;5;241m.\u001b[39madd(bitvec_vars[\u001b[38;5;241m4\u001b[39m] \u001b[38;5;241m==\u001b[39m \u001b[38;5;241m5\u001b[39m)\n\u001b[1;32m---> 17\u001b[0m \u001b[38;5;28mprint\u001b[39m(\u001b[38;5;28mtype\u001b[39m(\u001b[43mbitvec_vars\u001b[49m\u001b[43m[\u001b[49m\u001b[38;5;241;43m0\u001b[39;49m\u001b[43m]\u001b[49m\u001b[43m[\u001b[49m\u001b[38;5;241;43m0\u001b[39;49m\u001b[43m]\u001b[49m))\n\u001b[0;32m     18\u001b[0m \u001b[38;5;66;03m# Add a constraint on the sum (example constraint)\u001b[39;00m\n\u001b[0;32m     19\u001b[0m s\u001b[38;5;241m.\u001b[39madd(bitvec_sum \u001b[38;5;241m==\u001b[39m \u001b[38;5;241m117\u001b[39m)\n",
      "\u001b[1;31mTypeError\u001b[0m: 'BitVecRef' object is not subscriptable"
     ]
    }
   ],
   "source": [
    "from z3 import *\n",
    "\n",
    "# Define a list of 8-bit BitVec variables\n",
    "bitvec_vars = [BitVec(f'x{i}', 8) for i in range(5)]\n",
    "\n",
    "# Create a solver\n",
    "s = Solver()\n",
    "\n",
    "# Define a sum of the BitVec variables\n",
    "bitvec_sum = sum(bitvec_vars)\n",
    "\n",
    "# Add constraints (example constraints)\n",
    "s.add(bitvec_vars[1] == 2)\n",
    "s.add(bitvec_vars[2] == 3)\n",
    "s.add(bitvec_vars[3] == 4)\n",
    "s.add(bitvec_vars[4] == 5)\n",
    "print(type(bitvec_vars[0][0]))\n",
    "# Add a constraint on the sum (example constraint)\n",
    "s.add(bitvec_sum == 117)\n",
    "\n",
    "# Check if the constraints are satisfiable and print the result\n",
    "if s.check() == sat:\n",
    "    print(\"Constraints are satisfiable:\")\n",
    "    print(s.model())\n",
    "else:\n",
    "    print(\"Constraints are not satisfiable\")"
   ]
  },
  {
   "cell_type": "code",
   "execution_count": 14,
   "metadata": {},
   "outputs": [
    {
     "data": {
      "text/html": [
       "x + 1 + 8"
      ],
      "text/plain": [
       "x + 1 + 8"
      ]
     },
     "execution_count": 14,
     "metadata": {},
     "output_type": "execute_result"
    }
   ],
   "source": [
    "binary_sum([BitVec(f'x', 4),0b0001,0b1000])"
   ]
  },
  {
   "cell_type": "code",
   "execution_count": 23,
   "metadata": {},
   "outputs": [
    {
     "data": {
      "text/html": [
       "Extract(6, 1, x1)"
      ],
      "text/plain": [
       "Extract(6, 1, x1)"
      ]
     },
     "execution_count": 23,
     "metadata": {},
     "output_type": "execute_result"
    }
   ],
   "source": [
    "x = Bool(f\"x_\")\n",
    "\n",
    "a = 10 \n",
    "\n",
    "y = x*a\n",
    "Extract(6,1,bitvec_vars[1])"
   ]
  },
  {
   "cell_type": "code",
   "execution_count": 91,
   "metadata": {},
   "outputs": [
    {
     "data": {
      "text/html": [
       "[carry = True]"
      ],
      "text/plain": [
       "[carry = True]"
      ]
     },
     "execution_count": 91,
     "metadata": {},
     "output_type": "execute_result"
    }
   ],
   "source": [
    "s = Solver() \n",
    "s.append(greater_eq([False,False,True], [False,False,True], \"clode\"))\n",
    "# s.check()\n",
    "s.check()\n",
    "s.model()\n",
    "\n",
    "\n",
    "\n",
    "\n"
   ]
  },
  {
   "cell_type": "code",
   "execution_count": 87,
   "metadata": {},
   "outputs": [],
   "source": [
    "def greater_eq(vec1, vec2, name):\n",
    "    # Ensure the two vectors have the same length\n",
    "    assert len(vec1) == len(vec2)\n",
    "\n",
    "    # Initialize carry variable\n",
    "    carry = Bool(f\"carry\")\n",
    "\n",
    "    # Initialize constraints list\n",
    "    constraints = []\n",
    "    b1 = vec1[-1] \n",
    "    b2 = vec2[-1] \n",
    "    borrow = And(Not(b1),b2)\n",
    "    # Subtract vec2 from vec1\n",
    "    for i in range(2,len(vec1)):\n",
    "        b1 = vec1[-i] \n",
    "        b2 = vec2[-i] \n",
    "        borrow = Or( And(borrow,Not(b1)), And(borrow,b2) , And(b2,Not(b1))  )\n",
    "    b1 = vec1[0] \n",
    "    b2 = vec2[0] \n",
    "    borrow = Or( And(borrow,Not(b1)), And(borrow,b2) , And(b2,Not(b1))  )\n",
    "    #return carry == borrow\n",
    "    return Not(carry == borrow)"
   ]
  },
  {
   "cell_type": "code",
   "execution_count": 98,
   "metadata": {},
   "outputs": [
    {
     "ename": "TypeError",
     "evalue": "type 'reversed' is not subscriptable",
     "output_type": "error",
     "traceback": [
      "\u001b[1;31m---------------------------------------------------------------------------\u001b[0m",
      "\u001b[1;31mTypeError\u001b[0m                                 Traceback (most recent call last)",
      "Cell \u001b[1;32mIn[98], line 3\u001b[0m\n\u001b[0;32m      1\u001b[0m \u001b[38;5;28;01mdef\u001b[39;00m \u001b[38;5;21mbool_vars_to_int\u001b[39m(bool_vars):\n\u001b[0;32m      2\u001b[0m     \u001b[38;5;28;01mreturn\u001b[39;00m Sum([If(b, \u001b[38;5;241m2\u001b[39m\u001b[38;5;241m*\u001b[39m\u001b[38;5;241m*\u001b[39mi, \u001b[38;5;241m0\u001b[39m) \u001b[38;5;28;01mfor\u001b[39;00m i, b \u001b[38;5;129;01min\u001b[39;00m \u001b[38;5;28menumerate\u001b[39m(\u001b[38;5;28mlist\u001b[39m(\u001b[38;5;28mreversed\u001b[39m[bool_vars]))])\n\u001b[1;32m----> 3\u001b[0m \u001b[43mbool_vars_to_int\u001b[49m\u001b[43m(\u001b[49m\u001b[43m[\u001b[49m\u001b[38;5;28;43;01mFalse\u001b[39;49;00m\u001b[43m,\u001b[49m\u001b[38;5;28;43;01mFalse\u001b[39;49;00m\u001b[43m,\u001b[49m\u001b[38;5;28;43;01mFalse\u001b[39;49;00m\u001b[43m,\u001b[49m\u001b[38;5;28;43;01mTrue\u001b[39;49;00m\u001b[43m]\u001b[49m\u001b[43m)\u001b[49m\n",
      "Cell \u001b[1;32mIn[98], line 2\u001b[0m, in \u001b[0;36mbool_vars_to_int\u001b[1;34m(bool_vars)\u001b[0m\n\u001b[0;32m      1\u001b[0m \u001b[38;5;28;01mdef\u001b[39;00m \u001b[38;5;21mbool_vars_to_int\u001b[39m(bool_vars):\n\u001b[1;32m----> 2\u001b[0m     \u001b[38;5;28;01mreturn\u001b[39;00m Sum([If(b, \u001b[38;5;241m2\u001b[39m\u001b[38;5;241m*\u001b[39m\u001b[38;5;241m*\u001b[39mi, \u001b[38;5;241m0\u001b[39m) \u001b[38;5;28;01mfor\u001b[39;00m i, b \u001b[38;5;129;01min\u001b[39;00m \u001b[38;5;28menumerate\u001b[39m(\u001b[38;5;28mlist\u001b[39m(\u001b[38;5;28;43mreversed\u001b[39;49m\u001b[43m[\u001b[49m\u001b[43mbool_vars\u001b[49m\u001b[43m]\u001b[49m))])\n",
      "\u001b[1;31mTypeError\u001b[0m: type 'reversed' is not subscriptable"
     ]
    }
   ],
   "source": [
    "def bool_vars_to_int(bool_vars):\n",
    "    return Sum([If(b, 2**i, 0) for i, b in enumerate(list(reversed(bool_vars)))])\n",
    "bool_vars_to_int([False,False,False,True])"
   ]
  }
 ],
 "metadata": {
  "kernelspec": {
   "display_name": "Python 3",
   "language": "python",
   "name": "python3"
  },
  "language_info": {
   "codemirror_mode": {
    "name": "ipython",
    "version": 3
   },
   "file_extension": ".py",
   "mimetype": "text/x-python",
   "name": "python",
   "nbconvert_exporter": "python",
   "pygments_lexer": "ipython3",
   "version": "3.12.0"
  }
 },
 "nbformat": 4,
 "nbformat_minor": 2
}
